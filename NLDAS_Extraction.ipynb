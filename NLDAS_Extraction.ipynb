{
  "nbformat": 4,
  "nbformat_minor": 0,
  "metadata": {
    "colab": {
      "name": "NLDAS_Extraction.ipynb",
      "provenance": [],
      "collapsed_sections": [],
      "authorship_tag": "ABX9TyMP4wFrVP1PxzAnoBaIzLeI",
      "include_colab_link": true
    },
    "kernelspec": {
      "name": "python3",
      "display_name": "Python 3"
    }
  },
  "cells": [
    {
      "cell_type": "markdown",
      "metadata": {
        "id": "view-in-github",
        "colab_type": "text"
      },
      "source": [
        "<a href=\"https://colab.research.google.com/github/sulochandhungel/ReferenceET/blob/master/NLDAS_Extraction.ipynb\" target=\"_parent\"><img src=\"https://colab.research.google.com/assets/colab-badge.svg\" alt=\"Open In Colab\"/></a>"
      ]
    },
    {
      "cell_type": "code",
      "metadata": {
        "id": "SLJC2gbSrjwz",
        "colab_type": "code",
        "colab": {
          "base_uri": "https://localhost:8080/",
          "height": 173
        },
        "outputId": "5d9e65f7-70be-43bb-cb68-915da5ce2aee"
      },
      "source": [
        "import ee\n",
        "# Trigger the authentication flow.\n",
        "ee.Authenticate()"
      ],
      "execution_count": 7,
      "outputs": [
        {
          "output_type": "stream",
          "text": [
            "To authorize access needed by Earth Engine, open the following URL in a web browser and follow the instructions. If the web browser does not start automatically, please manually browse the URL below.\n",
            "\n",
            "    https://accounts.google.com/o/oauth2/auth?client_id=517222506229-vsmmajv00ul0bs7p89v5m89qs8eb9359.apps.googleusercontent.com&scope=https%3A%2F%2Fwww.googleapis.com%2Fauth%2Fearthengine+https%3A%2F%2Fwww.googleapis.com%2Fauth%2Fdevstorage.full_control&redirect_uri=urn%3Aietf%3Awg%3Aoauth%3A2.0%3Aoob&response_type=code&code_challenge=cfpbR-INks4kISf15NBR35MCoJgxY5s5ujXImSU_HpM&code_challenge_method=S256\n",
            "\n",
            "The authorization workflow will generate a code, which you should paste in the box below. \n",
            "Enter verification code: 4/ygH4X5eq4pOVva72h-QsfZP5iIeh9ZOFaONhQ7yuPe7OZWBNOSXm3Aw\n",
            "\n",
            "Successfully saved authorization token.\n"
          ],
          "name": "stdout"
        }
      ]
    },
    {
      "cell_type": "code",
      "metadata": {
        "id": "Q4KTM_X4rxSP",
        "colab_type": "code",
        "colab": {
          "base_uri": "https://localhost:8080/",
          "height": 34
        },
        "outputId": "55cf35d7-29a5-4337-dae2-ad9e8b855b79"
      },
      "source": [
        "# Import Earth Engine\n",
        "import ee\n",
        "\n",
        "try:\n",
        "    ee.Initialize()\n",
        "    print('The Earth Engine package initialized successfully!')\n",
        "except ee.EEException as e:\n",
        "    print('The Earth Engine package failed to initialize!')\n",
        "except:\n",
        "    print(\"Unexpected error:\", sys.exc_info()[0])\n",
        "    raise"
      ],
      "execution_count": 8,
      "outputs": [
        {
          "output_type": "stream",
          "text": [
            "The Earth Engine package initialized successfully!\n"
          ],
          "name": "stdout"
        }
      ]
    },
    {
      "cell_type": "code",
      "metadata": {
        "id": "jfJySIoLscBq",
        "colab_type": "code",
        "colab": {
          "base_uri": "https://localhost:8080/",
          "height": 51
        },
        "outputId": "e805acf0-71c4-4182-d5a9-63a3d059d0b9"
      },
      "source": [
        "import subprocess\n",
        "\n",
        "try:\n",
        "    import timezonefinder\n",
        "except ImportError:\n",
        "    print('timezonefinder package not installed. Installing ...')\n",
        "    subprocess.check_call([\"python\", '-m', 'pip', 'install', 'timezonefinder'])\n",
        "print (\"Done!\")"
      ],
      "execution_count": 10,
      "outputs": [
        {
          "output_type": "stream",
          "text": [
            "timezonefinder package not installed. Installing ...\n",
            "Done!\n"
          ],
          "name": "stdout"
        }
      ]
    },
    {
      "cell_type": "code",
      "metadata": {
        "id": "ykB_fVvopWD4",
        "colab_type": "code",
        "colab": {
          "base_uri": "https://localhost:8080/",
          "height": 68
        },
        "outputId": "b299317d-c2fb-4fa2-d69a-08d5ce71b838"
      },
      "source": [
        "# Function to get NLDAS data\n",
        "def getNLDAS_data_GMT(reqd_area, GMTyear_, GMTmonth_, GMTday_, GMThour_, GMTminute_, GMTsecond_, var_name, resample_to_elev = True):\n",
        "    import datetime\n",
        "    import ee\n",
        "    ee.Initialize()\n",
        "    \n",
        "    def getRH(temp, elev, q):\n",
        "        pair = elev.expression('101.3 * pow((293 - 0.0065 * b()) / 293, 5.26)')\n",
        "        es = temp.expression('0.6108 * exp(17.27 * b() / (b() + 237.3))')\n",
        "        ea = pair.expression('q * pair / (0.622 + 0.378 * q)', {'pair':pair, 'q':q})\n",
        "        return (ea.divide(es).multiply(ee.Image.constant(100.0)))\n",
        "    \n",
        "    selDT = datetime.datetime(GMTyear_, GMTmonth_, GMTday_, GMThour_, GMTminute_, GMTsecond_)\n",
        "    endDT = (selDT + datetime.timedelta(days=1))\n",
        "    \n",
        "    if GMTminute_>=30:\n",
        "        GMThour_ = GMThour_ + 1\n",
        "    \n",
        "    nldas_coll = ee.ImageCollection('FORA0125_H002').filterDate(selDT.strftime('%Y-%m-%d'), endDT.strftime('%Y-%m-%d')).filterBounds(reqd_area.geometry()).filter(ee.Filter.eq('start_hour', GMThour_))\n",
        "    nldas_img = ee.Image(nldas_coll.first())\n",
        "    \n",
        "    rd = ee.Image('USGS/NED').projection() # Getting the data to the highest possible resolution of 10m\n",
        "    ans_img_coarse = nldas_img.select(var_name).clip(reqd_area.geometry())\n",
        "    \n",
        "    if resample_to_elev:\n",
        "        ans_img = nldas_img.select(var_name).resample('bilinear').reproject(rd).clip(reqd_area.geometry())\n",
        "    else:\n",
        "        ans_img = ans_img_coarse\n",
        "    \n",
        "    if var_name == \"shortwave_radiation\":\n",
        "        ans_img = ans_img.divide(ee.Image.constant(1000.0)) # Get solar radiation in kW m-2 (Slr_Kw_Avg)\n",
        "        ans_img_coarse = ans_img_coarse.divide(ee.Image.constant(1000.0))\n",
        "        \n",
        "    if var_name == \"relative_humidity\":\n",
        "        temp = nldas_img.select('temperature')\n",
        "        elev = ee.Image('USGS/NED')\n",
        "        q = nldas_img.select('specific_humidity')\n",
        "        ans_img_coarse = getRH(temp, elev, q).clip(reqd_area.geometry())\n",
        "        if resample_to_elev:\n",
        "            ans_img = getRH(temp, elev, q).resample('bilinear').reproject(rd).clip(reqd_area.geometry())\n",
        "        else:\n",
        "            ans_img = ans_img_coarse\n",
        "\n",
        "    \n",
        "    if var_name == \"windspeed\":\n",
        "        wind_u = nldas_img.select(\"wind_u\")\n",
        "        wind_v = nldas_img.select(\"wind_v\")\n",
        "        uz = ((wind_u.pow(2)).add(wind_v.pow(2))).sqrt().clip(reqd_area.geometry())\n",
        "        zw = ee.Image.constant(10) # wind speed measured at 10 m\n",
        "        ans_img_coarse = uz.expression('uz * 4.87 / log(67.8 * zw - 5.42)', {'uz':uz, 'zw':zw})\n",
        "        if resample_to_elev:\n",
        "            uz = ((wind_u.pow(2)).add(wind_v.pow(2))).sqrt().resample('bilinear').reproject(rd).clip(reqd_area.geometry())\n",
        "            ans_img = uz.expression('uz * 4.87 / log(67.8 * zw - 5.42)', {'uz':uz, 'zw':zw})\n",
        "        else:\n",
        "            ans_img = ans_img_coarse\n",
        "        \n",
        "    return ({'ans_img':ans_img,\\\n",
        "             'mean_val':list(ans_img_coarse.reduceRegion(ee.Reducer.mean(), reqd_area.geometry()).getInfo().values())[0]})\n",
        "#print (\"Done!\")\n",
        "\n",
        "def getNLDAS_data(reqd_area, year_ = 2015, month_ = 5, day_ = 13,\n",
        "                   hour_ = 11, minute_ = 45, second_ = 11, var_name = 'shortwave_radiation', resample_to_elev = True):\n",
        "    import pandas as pd\n",
        "    from datetime import datetime\n",
        "    from pytz import timezone\n",
        "\n",
        "    from timezonefinder import TimezoneFinder\n",
        "\n",
        "    tf = TimezoneFinder()\n",
        "    import pytz\n",
        "\n",
        "    reqd_area_cent = reqd_area.centroid().getInfo().get('geometry').get('coordinates')\n",
        "    #print (reqd_area_cent)\n",
        "    tz = pytz.timezone(str(tf.timezone_at(lng = reqd_area_cent[0], lat = reqd_area_cent[1])))\n",
        "\n",
        "    #gmt_DT = datetime(im_year, im_month, im_day, im_hour, im_minute, im_second)\n",
        "    loc_DT = datetime(year_, month_, day_, hour_, minute_, second_)\n",
        "    tzoffset = tz.utcoffset(loc_DT, is_dst=True)\n",
        "    #print (tzoffset)\n",
        "    gmt_DT = loc_DT - tzoffset\n",
        "    #print (gmt_DT)\n",
        "    #print (loc_DT)\n",
        "    #loc_DT = gmt_DT + tzoffset\n",
        "    \n",
        "    return (getNLDAS_data_GMT(reqd_area = reqd_area, GMTyear_ = gmt_DT.year, GMTmonth_ = gmt_DT.month, GMTday_ = gmt_DT.day,\n",
        "                   GMThour_ = gmt_DT.hour, GMTminute_ = gmt_DT.minute, GMTsecond_ = gmt_DT.second, var_name = var_name, resample_to_elev = resample_to_elev))\n",
        "\n",
        "#xx = getNLDAS_data_GMT(reqd_area = reqd_area, GMTyear_ = 2015, GMTmonth_ = 5, GMTday_ = 13,\n",
        "#                   GMThour_ = 11, GMTminute_ = 45, GMTsecond_ = 11, var_name = 'relative_humidity', resample_to_elev = True)\n",
        "\n",
        "print (\" --- Checking NLDAS data acquistion ----- \")\n",
        "lng = -118.93611\n",
        "lat = 46.20527\n",
        "buff_dist = 1*1000\n",
        "loc_reqd = ee.Feature(ee.Geometry.Point(lng, lat))\n",
        "reqd_area = loc_reqd.buffer(buff_dist)\n",
        "\n",
        "xx = getNLDAS_data(reqd_area= reqd_area, year_ = 2015, month_ = 5, day_ = 13,\\\n",
        "                  hour_ = 11, minute_ = 45, second_ = 11,\\\n",
        "                  var_name = 'shortwave_radiation', resample_to_elev = True)\n",
        "print (xx)\n",
        "#getNLDAS_data()\n",
        "print (\"Done!\")\n"
      ],
      "execution_count": 37,
      "outputs": [
        {
          "output_type": "stream",
          "text": [
            " --- Checking NLDAS data acquistion ----- \n",
            "{'ans_img': <ee.image.Image object at 0x7f771d55bcf8>, 'mean_val': 0.371481}\n",
            "Done!\n"
          ],
          "name": "stdout"
        }
      ]
    },
    {
      "cell_type": "code",
      "metadata": {
        "id": "nU4DOxb7ubQI",
        "colab_type": "code",
        "colab": {
          "base_uri": "https://localhost:8080/",
          "height": 122
        },
        "outputId": "1e369193-c897-47ee-a689-5b228447b521"
      },
      "source": [
        "import datetime\n",
        "DTs = [\"2016-04-08 11:43:18\", \"2016-04-16 11:45:58\", \"2016-05-02 11:46:04\",\\\n",
        "           \"2016-05-10 11:43:14\", \"2016-05-18 11:46:05\", \"2016-06-19 11:46:14\"]\n",
        "echoans = False\n",
        "\n",
        "print (DTs)\n",
        "pd.to_datetime(DTs, format = '%Y-%m-%d %H:%M:%S').rename(\"TIMESTAMP\")\n",
        "#loc_DTs = [datetime.datetime.strptime(loc_DT, \"%Y-%m-%d %H:%M:%S\") for loc_DT in DTs] \n",
        "#DateTime.year"
      ],
      "execution_count": 39,
      "outputs": [
        {
          "output_type": "stream",
          "text": [
            "['2016-04-08 11:43:18', '2016-04-16 11:45:58', '2016-05-02 11:46:04', '2016-05-10 11:43:14', '2016-05-18 11:46:05', '2016-06-19 11:46:14']\n"
          ],
          "name": "stdout"
        },
        {
          "output_type": "execute_result",
          "data": {
            "text/plain": [
              "DatetimeIndex(['2016-04-08 11:43:18', '2016-04-16 11:45:58',\n",
              "               '2016-05-02 11:46:04', '2016-05-10 11:43:14',\n",
              "               '2016-05-18 11:46:05', '2016-06-19 11:46:14'],\n",
              "              dtype='datetime64[ns]', name='TIMESTAMP', freq=None)"
            ]
          },
          "metadata": {
            "tags": []
          },
          "execution_count": 39
        }
      ]
    },
    {
      "cell_type": "code",
      "metadata": {
        "id": "fZbmz14BunbF",
        "colab_type": "code",
        "colab": {
          "base_uri": "https://localhost:8080/",
          "height": 289
        },
        "outputId": "dacf2056-d7f8-4808-9b36-4e5386d6c20a"
      },
      "source": [
        "#Get a dataframe of NLDAS data mean\n",
        "import pandas as pd\n",
        "import numpy as np\n",
        "w_data_type = \"NLDAS\"\n",
        "\n",
        "if w_data_type == \"NLDAS\":\n",
        "    #DateTime = pd.to_datetime(Sat_DTs_CldCov['Date'] , format = '%Y-%m-%d %H:%M:%S').rename('TIMESTAMP')\n",
        "    DateTime = pd.to_datetime(DTs, format = '%Y-%m-%d %H:%M:%S').rename('TIMESTAMP')\n",
        "    \n",
        "    records = pd.DataFrame(range(1, (DateTime.size)+1), columns= ['RECORD'])\n",
        "    years = DateTime.year.rename('Year')\n",
        "    months = DateTime.month.rename('Month')\n",
        "    days = DateTime.day.rename('Day')\n",
        "    hours = DateTime.hour.rename('Hour')\n",
        "    minutes = DateTime.minute.rename('Minute')\n",
        "    seconds = DateTime.second.rename('Second')\n",
        "    \n",
        "    \n",
        "    ws_ms_avg = []\n",
        "    winddir = []\n",
        "    slrkw_avg = []\n",
        "    airtc_avg = []\n",
        "    rh = []\n",
        "    rainmmtot  = []\n",
        "    \n",
        "    for i in range(0,len(DateTime)):\n",
        "        print (DateTime[i])\n",
        "        def NLDAS_common(var_name, reqd_area = reqd_area, echoans = echoans):\n",
        "            ans = getNLDAS_data(reqd_area, year_ = years[i],\n",
        "                                month_ = months[i],\n",
        "                                day_ = days[i],\n",
        "                                hour_ = hours[i],\n",
        "                                minute_ = minutes[i],\n",
        "                                second_ = seconds[i],\n",
        "                                var_name = var_name, resample_to_elev = True).get('mean_val')\n",
        "            if echoans:\n",
        "              print (var_name + \" = \" + str(ans))\n",
        "            return (ans)\n",
        "    \n",
        "        ws_ms_avg.append(NLDAS_common('windspeed'))\n",
        "        winddir.append(None)\n",
        "        slrkw_avg.append(NLDAS_common('shortwave_radiation'))\n",
        "        airtc_avg.append(NLDAS_common('temperature'))\n",
        "        rh.append(NLDAS_common('relative_humidity'))\n",
        "        rainmmtot.append(NLDAS_common('total_precipitation'))\n",
        "    \n",
        "\n",
        "    list_of_series = [DateTime,\n",
        "                      pd.Series(years), pd.Series(months), pd.Series(days),\n",
        "                      pd.Series(hours), pd.Series(minutes), pd.Series(seconds),\n",
        "                      pd.Series(ws_ms_avg).rename('WS_ms_Avg'),\n",
        "                      pd.Series(winddir).rename('WindDir'),\n",
        "                      pd.Series(slrkw_avg).rename('SlrkW_Avg'),\n",
        "                      pd.Series(airtc_avg).rename('AirTC_Avg'),\n",
        "                      pd.Series(rh).rename('RH'),\n",
        "                      pd.Series(rainmmtot).rename('Rain_mm_Tot')]\n",
        "\n",
        "    hourly_data = None\n",
        "    for ser in list_of_series:\n",
        "        if hourly_data is None:\n",
        "            hourly_data = pd.DataFrame(ser)\n",
        "        else:\n",
        "            hourly_data = pd.concat([hourly_data, ser], axis=1)\n",
        "    hourly_data = hourly_data.reset_index(drop=True)\n",
        "    hourly_data = pd.concat([hourly_data, records], axis=1)\n",
        "\n",
        "    # Create a complete dataframe for all the variables\n",
        "    w_df = pd.DataFrame().reindex_like(hourly_data).iloc[0:len(loc_DTs)]\n",
        "    w_df['TIMESTAMP'] = loc_DTs\n",
        "\n",
        "    w_df1 = pd.concat([hourly_data, w_df]).sort_values(by=['TIMESTAMP']).reset_index(drop=True)\n",
        "    indsNaNs =  (w_df1[w_df1['RECORD'].isnull()].index) # only those datetimes are interpolated for Satellite datetimes\n",
        "    #indsNaNs =  (w_df1[w_df1.isnull().any(axis=1)].index) # all NaNs are interpolated \n",
        "    #print (indsNaNs)\n",
        "\n",
        "    w_df1 = w_df1.replace(-9999.000000, np.nan)\n",
        "    w_df_interp = w_df1.interpolate('linear')\n",
        "\n",
        "    w_df_4_Sat_DT_NLDAS = w_df_interp.iloc[indsNaNs]\n",
        "    w_df_4_Sat_DT = w_df_4_Sat_DT_NLDAS\n",
        "    \n",
        "    \n",
        "    print (w_df_4_Sat_DT)\n",
        "print (\"Done!\")\n",
        "#print (DateTime)\n"
      ],
      "execution_count": 41,
      "outputs": [
        {
          "output_type": "stream",
          "text": [
            "2016-04-08 11:43:18\n",
            "2016-04-16 11:45:58\n",
            "2016-05-02 11:46:04\n",
            "2016-05-10 11:43:14\n",
            "2016-05-18 11:46:05\n",
            "2016-06-19 11:46:14\n",
            "             TIMESTAMP    Year  Month  ...         RH  Rain_mm_Tot  RECORD\n",
            "1  2016-04-08 11:43:18  2016.0    4.0  ...  39.726579          0.0     1.5\n",
            "3  2016-04-16 11:45:58  2016.0    4.5  ...  34.290618          0.0     2.5\n",
            "5  2016-05-02 11:46:04  2016.0    5.0  ...  31.943864          0.0     3.5\n",
            "7  2016-05-10 11:43:14  2016.0    5.0  ...  34.066210          0.0     4.5\n",
            "9  2016-05-18 11:46:05  2016.0    5.5  ...  32.107814          0.0     5.5\n",
            "11 2016-06-19 11:46:14  2016.0    6.0  ...  29.954649          0.0     6.0\n",
            "\n",
            "[6 rows x 14 columns]\n",
            "Done!\n"
          ],
          "name": "stdout"
        }
      ]
    }
  ]
}
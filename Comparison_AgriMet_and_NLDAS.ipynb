{
  "nbformat": 4,
  "nbformat_minor": 0,
  "metadata": {
    "colab": {
      "name": "Comparison_AgriMet_and_NLDAS.ipynb",
      "provenance": [],
      "collapsed_sections": [],
      "authorship_tag": "ABX9TyPZUN4HQfRH4q1rK5cfkUgI",
      "include_colab_link": true
    },
    "kernelspec": {
      "name": "python3",
      "display_name": "Python 3"
    }
  },
  "cells": [
    {
      "cell_type": "markdown",
      "metadata": {
        "id": "view-in-github",
        "colab_type": "text"
      },
      "source": [
        "<a href=\"https://colab.research.google.com/github/sulochandhungel/ReferenceET/blob/master/Comparison_AgriMet_and_NLDAS.ipynb\" target=\"_parent\"><img src=\"https://colab.research.google.com/assets/colab-badge.svg\" alt=\"Open In Colab\"/></a>"
      ]
    },
    {
      "cell_type": "code",
      "metadata": {
        "id": "SLJC2gbSrjwz",
        "colab_type": "code",
        "outputId": "8217c7b2-1c81-426d-8376-0ac6b613e07e",
        "colab": {
          "base_uri": "https://localhost:8080/",
          "height": 173
        }
      },
      "source": [
        "import ee\n",
        "# Trigger the authentication flow.\n",
        "ee.Authenticate()"
      ],
      "execution_count": 3,
      "outputs": [
        {
          "output_type": "stream",
          "text": [
            "To authorize access needed by Earth Engine, open the following URL in a web browser and follow the instructions. If the web browser does not start automatically, please manually browse the URL below.\n",
            "\n",
            "    https://accounts.google.com/o/oauth2/auth?client_id=517222506229-vsmmajv00ul0bs7p89v5m89qs8eb9359.apps.googleusercontent.com&scope=https%3A%2F%2Fwww.googleapis.com%2Fauth%2Fearthengine+https%3A%2F%2Fwww.googleapis.com%2Fauth%2Fdevstorage.full_control&redirect_uri=urn%3Aietf%3Awg%3Aoauth%3A2.0%3Aoob&response_type=code&code_challenge=Rf3TopMCzH4ZFLjcmOcZipIbBQNmqlRoLlqeFZJf1sc&code_challenge_method=S256\n",
            "\n",
            "The authorization workflow will generate a code, which you should paste in the box below. \n",
            "Enter verification code: 4/ygE8L3XqaG2ALW32gNcg3C3wzVGbG5MZa6vQuMBJfFnnI2viayfkZt8\n",
            "\n",
            "Successfully saved authorization token.\n"
          ],
          "name": "stdout"
        }
      ]
    },
    {
      "cell_type": "code",
      "metadata": {
        "id": "Q4KTM_X4rxSP",
        "colab_type": "code",
        "outputId": "c2d2e85e-1687-433d-a605-5c215d425073",
        "colab": {
          "base_uri": "https://localhost:8080/",
          "height": 34
        }
      },
      "source": [
        "# Import Earth Engine\n",
        "import ee\n",
        "\n",
        "try:\n",
        "    ee.Initialize()\n",
        "    print('The Earth Engine package initialized successfully!')\n",
        "except ee.EEException as e:\n",
        "    print('The Earth Engine package failed to initialize!')\n",
        "except:\n",
        "    print(\"Unexpected error:\", sys.exc_info()[0])\n",
        "    raise"
      ],
      "execution_count": 49,
      "outputs": [
        {
          "output_type": "stream",
          "text": [
            "The Earth Engine package initialized successfully!\n"
          ],
          "name": "stdout"
        }
      ]
    },
    {
      "cell_type": "code",
      "metadata": {
        "id": "jfJySIoLscBq",
        "colab_type": "code",
        "outputId": "5b34d5a0-6f6e-4905-c843-2cba4d257aac",
        "colab": {
          "base_uri": "https://localhost:8080/",
          "height": 34
        }
      },
      "source": [
        "import subprocess\n",
        "\n",
        "try:\n",
        "    import timezonefinder\n",
        "except ImportError:\n",
        "    print('timezonefinder package not installed. Installing ...')\n",
        "    subprocess.check_call([\"python\", '-m', 'pip', 'install', 'timezonefinder'])\n",
        "print (\"Done!\")"
      ],
      "execution_count": 50,
      "outputs": [
        {
          "output_type": "stream",
          "text": [
            "Done!\n"
          ],
          "name": "stdout"
        }
      ]
    },
    {
      "cell_type": "code",
      "metadata": {
        "id": "ykB_fVvopWD4",
        "colab_type": "code",
        "outputId": "4546f1b3-0657-4036-ba85-6b76ed393926",
        "colab": {
          "base_uri": "https://localhost:8080/",
          "height": 68
        }
      },
      "source": [
        "# Function to get NLDAS data\n",
        "def getNLDAS_data_GMT(reqd_area, GMTyear_, GMTmonth_, GMTday_, GMThour_, GMTminute_, GMTsecond_, var_name, resample_to_elev = True):\n",
        "    import datetime\n",
        "    import ee\n",
        "    ee.Initialize()\n",
        "    \n",
        "    def getRH(temp, elev, q):\n",
        "        pair = elev.expression('101.3 * pow((293 - 0.0065 * b()) / 293, 5.26)')\n",
        "        es = temp.expression('0.6108 * exp(17.27 * b() / (b() + 237.3))')\n",
        "        ea = pair.expression('q * pair / (0.622 + 0.378 * q)', {'pair':pair, 'q':q})\n",
        "        return (ea.divide(es).multiply(ee.Image.constant(100.0)))\n",
        "    \n",
        "    selDT = datetime.datetime(GMTyear_, GMTmonth_, GMTday_, GMThour_, GMTminute_, GMTsecond_)\n",
        "    endDT = (selDT + datetime.timedelta(days=1))\n",
        "    \n",
        "    if GMTminute_>=30:\n",
        "        GMThour_ = GMThour_ + 1\n",
        "    \n",
        "    nldas_coll = ee.ImageCollection('FORA0125_H002').filterDate(selDT.strftime('%Y-%m-%d'), endDT.strftime('%Y-%m-%d')).filterBounds(reqd_area.geometry()).filter(ee.Filter.eq('start_hour', GMThour_))\n",
        "    nldas_img = ee.Image(nldas_coll.first())\n",
        "    \n",
        "    rd = ee.Image('USGS/NED').projection() # Getting the data to the highest possible resolution of 10m\n",
        "    ans_img_coarse = nldas_img.select(var_name).clip(reqd_area.geometry())\n",
        "    \n",
        "    if resample_to_elev:\n",
        "        ans_img = nldas_img.select(var_name).resample('bilinear').reproject(rd).clip(reqd_area.geometry())\n",
        "    else:\n",
        "        ans_img = ans_img_coarse\n",
        "    \n",
        "    if var_name == \"shortwave_radiation\":\n",
        "        ans_img = ans_img.divide(ee.Image.constant(1000.0)) # Get solar radiation in kW m-2 (Slr_Kw_Avg)\n",
        "        ans_img_coarse = ans_img_coarse.divide(ee.Image.constant(1000.0))\n",
        "        \n",
        "    if var_name == \"relative_humidity\":\n",
        "        temp = nldas_img.select('temperature')\n",
        "        elev = ee.Image('USGS/NED')\n",
        "        q = nldas_img.select('specific_humidity')\n",
        "        ans_img_coarse = getRH(temp, elev, q).clip(reqd_area.geometry())\n",
        "        if resample_to_elev:\n",
        "            ans_img = getRH(temp, elev, q).resample('bilinear').reproject(rd).clip(reqd_area.geometry())\n",
        "        else:\n",
        "            ans_img = ans_img_coarse\n",
        "\n",
        "    \n",
        "    if var_name == \"windspeed\":\n",
        "        wind_u = nldas_img.select(\"wind_u\")\n",
        "        wind_v = nldas_img.select(\"wind_v\")\n",
        "        uz = ((wind_u.pow(2)).add(wind_v.pow(2))).sqrt().clip(reqd_area.geometry())\n",
        "        zw = ee.Image.constant(10) # wind speed measured at 10 m\n",
        "        ans_img_coarse = uz.expression('uz * 4.87 / log(67.8 * zw - 5.42)', {'uz':uz, 'zw':zw})\n",
        "        if resample_to_elev:\n",
        "            uz = ((wind_u.pow(2)).add(wind_v.pow(2))).sqrt().resample('bilinear').reproject(rd).clip(reqd_area.geometry())\n",
        "            ans_img = uz.expression('uz * 4.87 / log(67.8 * zw - 5.42)', {'uz':uz, 'zw':zw})\n",
        "        else:\n",
        "            ans_img = ans_img_coarse\n",
        "        \n",
        "    return ({'ans_img':ans_img,\\\n",
        "             'mean_val':list(ans_img_coarse.reduceRegion(ee.Reducer.mean(), reqd_area.geometry()).getInfo().values())[0]})\n",
        "#print (\"Done!\")\n",
        "\n",
        "def getNLDAS_data(reqd_area, year_ = 2015, month_ = 5, day_ = 13,\n",
        "                   hour_ = 11, minute_ = 45, second_ = 11, var_name = 'shortwave_radiation', resample_to_elev = True):\n",
        "    import pandas as pd\n",
        "    from datetime import datetime\n",
        "    from pytz import timezone\n",
        "\n",
        "    from timezonefinder import TimezoneFinder\n",
        "\n",
        "    tf = TimezoneFinder()\n",
        "    import pytz\n",
        "\n",
        "    reqd_area_cent = reqd_area.centroid().getInfo().get('geometry').get('coordinates')\n",
        "    #print (reqd_area_cent)\n",
        "    tz = pytz.timezone(str(tf.timezone_at(lng = reqd_area_cent[0], lat = reqd_area_cent[1])))\n",
        "\n",
        "    #gmt_DT = datetime(im_year, im_month, im_day, im_hour, im_minute, im_second)\n",
        "    loc_DT = datetime(year_, month_, day_, hour_, minute_, second_)\n",
        "    tzoffset = tz.utcoffset(loc_DT, is_dst=True)\n",
        "    #print (tzoffset)\n",
        "    gmt_DT = loc_DT - tzoffset\n",
        "    #print (gmt_DT)\n",
        "    #print (loc_DT)\n",
        "    #loc_DT = gmt_DT + tzoffset\n",
        "    \n",
        "    return (getNLDAS_data_GMT(reqd_area = reqd_area, GMTyear_ = gmt_DT.year, GMTmonth_ = gmt_DT.month, GMTday_ = gmt_DT.day,\n",
        "                   GMThour_ = gmt_DT.hour, GMTminute_ = gmt_DT.minute, GMTsecond_ = gmt_DT.second, var_name = var_name, resample_to_elev = resample_to_elev))\n",
        "\n",
        "#xx = getNLDAS_data_GMT(reqd_area = reqd_area, GMTyear_ = 2015, GMTmonth_ = 5, GMTday_ = 13,\n",
        "#                   GMThour_ = 11, GMTminute_ = 45, GMTsecond_ = 11, var_name = 'relative_humidity', resample_to_elev = True)\n",
        "\n",
        "print (\" --- Checking NLDAS data acquistion ----- \")\n",
        "#Location of HRHW Agrimet\n",
        "lng = -120.57444\n",
        "lat = 46.38472\n",
        "buff_dist = 1*1000\n",
        "loc_reqd = ee.Feature(ee.Geometry.Point(lng, lat))\n",
        "reqd_area = loc_reqd.buffer(buff_dist)\n",
        "\n",
        "xx = getNLDAS_data(reqd_area= reqd_area, year_ = 2015, month_ = 5, day_ = 13,\\\n",
        "                  hour_ = 11, minute_ = 45, second_ = 11,\\\n",
        "                  var_name = 'shortwave_radiation', resample_to_elev = True)\n",
        "print (xx)\n",
        "#getNLDAS_data()\n",
        "print (\"Done!\")\n"
      ],
      "execution_count": 66,
      "outputs": [
        {
          "output_type": "stream",
          "text": [
            " --- Checking NLDAS data acquistion ----- \n",
            "{'ans_img': <ee.image.Image object at 0x7f42b84e7748>, 'mean_val': 0.38631299999999996}\n",
            "Done!\n"
          ],
          "name": "stdout"
        }
      ]
    },
    {
      "cell_type": "code",
      "metadata": {
        "id": "nU4DOxb7ubQI",
        "colab_type": "code",
        "outputId": "f8a3b7a6-fc7e-4a5d-84c7-7b170fd4dad6",
        "colab": {
          "base_uri": "https://localhost:8080/",
          "height": 54
        }
      },
      "source": [
        "import datetime\n",
        "DTs = [\"2016-04-08 11:43:18\", \"2016-04-16 11:45:58\", \"2016-05-02 11:46:04\",\\\n",
        "           \"2016-05-10 11:43:14\", \"2016-05-18 11:46:05\", \"2016-06-19 11:46:14\"]\n",
        "echoans = False\n",
        "\n",
        "print (DTs)\n",
        "#pd.to_datetime(DTs, format = '%Y-%m-%d %H:%M:%S').rename(\"TIMESTAMP\")\n",
        "loc_DTs = [datetime.datetime.strptime(loc_DT, \"%Y-%m-%d %H:%M:%S\") for loc_DT in DTs] \n",
        "#DateTime.year"
      ],
      "execution_count": 67,
      "outputs": [
        {
          "output_type": "stream",
          "text": [
            "['2016-04-08 11:43:18', '2016-04-16 11:45:58', '2016-05-02 11:46:04', '2016-05-10 11:43:14', '2016-05-18 11:46:05', '2016-06-19 11:46:14']\n"
          ],
          "name": "stdout"
        }
      ]
    },
    {
      "cell_type": "code",
      "metadata": {
        "id": "fZbmz14BunbF",
        "colab_type": "code",
        "outputId": "7342c76e-7014-4632-8dd9-df19789c9e70",
        "colab": {
          "base_uri": "https://localhost:8080/",
          "height": 289
        }
      },
      "source": [
        "#Get a dataframe of NLDAS data mean\n",
        "import pandas as pd\n",
        "import numpy as np\n",
        "w_data_type = \"NLDAS\"\n",
        "\n",
        "if w_data_type == \"NLDAS\":\n",
        "    #DateTime = pd.to_datetime(Sat_DTs_CldCov['Date'] , format = '%Y-%m-%d %H:%M:%S').rename('TIMESTAMP')\n",
        "    DateTime = pd.to_datetime(DTs, format = '%Y-%m-%d %H:%M:%S').rename('TIMESTAMP')\n",
        "    \n",
        "    records = pd.DataFrame(range(1, (DateTime.size)+1), columns= ['RECORD'])\n",
        "    years = DateTime.year.rename('Year')\n",
        "    months = DateTime.month.rename('Month')\n",
        "    days = DateTime.day.rename('Day')\n",
        "    hours = DateTime.hour.rename('Hour')\n",
        "    minutes = DateTime.minute.rename('Minute')\n",
        "    seconds = DateTime.second.rename('Second')\n",
        "    \n",
        "    \n",
        "    ws_ms_avg = []\n",
        "    winddir = []\n",
        "    slrkw_avg = []\n",
        "    airtc_avg = []\n",
        "    rh = []\n",
        "    rainmmtot  = []\n",
        "    \n",
        "    for i in range(0,len(DateTime)):\n",
        "        print (DateTime[i])\n",
        "        def NLDAS_common(var_name, reqd_area = reqd_area, echoans = echoans):\n",
        "            ans = getNLDAS_data(reqd_area, year_ = years[i],\n",
        "                                month_ = months[i],\n",
        "                                day_ = days[i],\n",
        "                                hour_ = hours[i],\n",
        "                                minute_ = minutes[i],\n",
        "                                second_ = seconds[i],\n",
        "                                var_name = var_name, resample_to_elev = True).get('mean_val')\n",
        "            if echoans:\n",
        "              print (var_name + \" = \" + str(ans))\n",
        "            return (ans)\n",
        "    \n",
        "        ws_ms_avg.append(NLDAS_common('windspeed'))\n",
        "        winddir.append(None)\n",
        "        slrkw_avg.append(NLDAS_common('shortwave_radiation'))\n",
        "        airtc_avg.append(NLDAS_common('temperature'))\n",
        "        rh.append(NLDAS_common('relative_humidity'))\n",
        "        rainmmtot.append(NLDAS_common('total_precipitation'))\n",
        "    \n",
        "\n",
        "    list_of_series = [DateTime,\n",
        "                      pd.Series(years), pd.Series(months), pd.Series(days),\n",
        "                      pd.Series(hours), pd.Series(minutes), pd.Series(seconds),\n",
        "                      pd.Series(ws_ms_avg).rename('WS_ms_Avg'),\n",
        "                      pd.Series(winddir).rename('WindDir'),\n",
        "                      pd.Series(slrkw_avg).rename('SlrkW_Avg'),\n",
        "                      pd.Series(airtc_avg).rename('AirTC_Avg'),\n",
        "                      pd.Series(rh).rename('RH'),\n",
        "                      pd.Series(rainmmtot).rename('Rain_mm_Tot')]\n",
        "\n",
        "    hourly_data = None\n",
        "    for ser in list_of_series:\n",
        "        if hourly_data is None:\n",
        "            hourly_data = pd.DataFrame(ser)\n",
        "        else:\n",
        "            hourly_data = pd.concat([hourly_data, ser], axis=1)\n",
        "    hourly_data = hourly_data.reset_index(drop=True)\n",
        "    hourly_data = pd.concat([hourly_data, records], axis=1)\n",
        "\n",
        "    # Create a complete dataframe for all the variables\n",
        "    w_df = pd.DataFrame().reindex_like(hourly_data).iloc[0:len(loc_DTs)]\n",
        "    w_df['TIMESTAMP'] = loc_DTs\n",
        "\n",
        "    w_df1 = pd.concat([hourly_data, w_df]).sort_values(by=['TIMESTAMP']).reset_index(drop=True)\n",
        "    indsNaNs =  (w_df1[w_df1['RECORD'].isnull()].index) # only those datetimes are interpolated for Satellite datetimes\n",
        "    #indsNaNs =  (w_df1[w_df1.isnull().any(axis=1)].index) # all NaNs are interpolated \n",
        "    #print (indsNaNs)\n",
        "\n",
        "    w_df1 = w_df1.replace(-9999.000000, np.nan)\n",
        "    w_df_interp = w_df1.interpolate('linear')\n",
        "\n",
        "    w_df_4_Sat_DT_NLDAS = w_df_interp.iloc[indsNaNs]\n",
        "    w_df_4_Sat_DT = w_df_4_Sat_DT_NLDAS\n",
        "    \n",
        "    \n",
        "    print (w_df_4_Sat_DT)\n",
        "print (\"Done!\")\n",
        "#print (DateTime)\n"
      ],
      "execution_count": 68,
      "outputs": [
        {
          "output_type": "stream",
          "text": [
            "2016-04-08 11:43:18\n",
            "2016-04-16 11:45:58\n",
            "2016-05-02 11:46:04\n",
            "2016-05-10 11:43:14\n",
            "2016-05-18 11:46:05\n",
            "2016-06-19 11:46:14\n",
            "             TIMESTAMP    Year  Month  ...         RH  Rain_mm_Tot  RECORD\n",
            "1  2016-04-08 11:43:18  2016.0    4.0  ...  46.089918          0.0     1.5\n",
            "3  2016-04-16 11:45:58  2016.0    4.5  ...  42.101539          0.0     2.5\n",
            "5  2016-05-02 11:46:04  2016.0    5.0  ...  37.435647          0.0     3.5\n",
            "7  2016-05-10 11:43:14  2016.0    5.0  ...  38.116897          0.0     4.5\n",
            "9  2016-05-18 11:46:05  2016.0    5.5  ...  37.695355          0.0     5.5\n",
            "11 2016-06-19 11:46:14  2016.0    6.0  ...  34.710139          0.0     6.0\n",
            "\n",
            "[6 rows x 14 columns]\n",
            "Done!\n"
          ],
          "name": "stdout"
        }
      ]
    },
    {
      "cell_type": "code",
      "metadata": {
        "id": "6e5thaNZh5qW",
        "colab_type": "code",
        "outputId": "20e14af3-5152-45bb-cf0e-3312f022bb98",
        "colab": {
          "base_uri": "https://localhost:8080/",
          "height": 34
        }
      },
      "source": [
        "# Function to get AgriMet data\n",
        "#Create a dataframe with day of satellite image day\n",
        "import pandas as pd\n",
        "import numpy as np\n",
        "import requests\n",
        "from io import StringIO\n",
        "\n",
        "def getAgriMetdata(StnID, styr, stmon, stday,\n",
        "                   enyr=None, enmon=None, enday=None,\n",
        "                   ):\n",
        "    if enyr is None:\n",
        "        enyr = styr\n",
        "    if enmon is None:\n",
        "        enmon = stmon\n",
        "    if enday is None:\n",
        "        enday = stday\n",
        "    #\"pn-bin/webdaycsv.pl?\"+\\ # This stopped working\n",
        "    Dataurl = \"https://www.usbr.gov/\"+\\\n",
        "    \"pn-bin/instant.pl?\"+\\\n",
        "    \"station=\"+ StnID +\\\n",
        "    \"&year=\" + str(styr) +\\\n",
        "    \"&month=\" + str(stmon) +\\\n",
        "    \"&day=\"+ str(stday) +\\\n",
        "    \"&year=\"+ str(enyr) +\\\n",
        "    \"&month=\"+ str(enmon) +\\\n",
        "    \"&day=\"+ str(enday) +\\\n",
        "    \"&pcode=\" + \"OB\" +\\\n",
        "    \"&pcode=\" + \"TU\" +\\\n",
        "    \"&pcode=\" + \"WS\" +\\\n",
        "    \"&pcode=\" + \"WD\" +\\\n",
        "    \"&pcode=\" + \"SI\" +\\\n",
        "    \"&pcode=\" + \"EA\" +\\\n",
        "    \"&pcode=\" + \"PC\" +\\\n",
        "    \"&pcode=\" + \"TP\" +\\\n",
        "    \"&pcode=\" + \"SL\" +\\\n",
        "    \"&pcode=\" + \"EH\"\n",
        "\n",
        "\n",
        "    #url = \"https://www.usbr.gov/pn-bin/instant.pl?list=boii%20ob,boii%20obx&start=2016-04-15&end=2016-04-20\"\n",
        "    headers = {\"User-Agent\":\n",
        "               \"Mozilla/5.0 (Windows NT 10.0; Win64; x64) \\\n",
        "                AppleWebKit/537.36 (KHTML, like Gecko) \\\n",
        "                Chrome/80.0.3987.163 Safari/537.36\"}\n",
        "    req = requests.get(Dataurl, headers=headers)\n",
        "    Datalink = StringIO(req.text)\n",
        "    #print (Datalink)\n",
        "    \n",
        "    df = pd.read_csv(Datalink, skiprows= 20, error_bad_lines=False, delim_whitespace=False) # with the new Agrimet data table, this has been changed\n",
        "    #print (df.head(2))\n",
        "    df.drop(df.tail(3).index,inplace=True)\n",
        "\n",
        "    return df\n",
        "print (\"Done!\")\n",
        "StnID = \"HRHW\"\n",
        "styr = 2015\n",
        "stmon = 5\n",
        "stday = 5\n",
        "tt = getAgriMetdata(StnID, styr, stmon, stday)"
      ],
      "execution_count": 69,
      "outputs": [
        {
          "output_type": "stream",
          "text": [
            "Done!\n"
          ],
          "name": "stdout"
        }
      ]
    },
    {
      "cell_type": "code",
      "metadata": {
        "id": "LpIw_RadRHWM",
        "colab_type": "code",
        "outputId": "7cfac5ba-6efe-49a0-b7eb-e06e9cba74f2",
        "colab": {
          "base_uri": "https://localhost:8080/",
          "height": 354
        }
      },
      "source": [
        "loc_DTs = [datetime.datetime.strptime(loc_DT, \"%Y-%m-%d %H:%M:%S\") for loc_DT in DTs] \n",
        "\n",
        "k = 0\n",
        "j = 0\n",
        "if k == 0:\n",
        "  if j ==0:\n",
        "    result = None\n",
        "    for DT in loc_DTs:\n",
        "        if result is None:\n",
        "            result = getAgriMetdata(StnID, DT.year, DT.month, DT.day)\n",
        "            #result['PC'][0] = 0.0\n",
        "            #result['PC'] = result['PC'][1:96] - result['PC'][0:95] \n",
        "        else:\n",
        "            result2 = getAgriMetdata(StnID, DT.year, DT.month, DT.day)\n",
        "            #result2['PC'][0] = 0.0\n",
        "            #result2['PC'] = result2['PC'][1:96] - result2['PC'][0:95] \n",
        "            result = pd.concat([result, result2])\n",
        "    \n",
        "    for i in range(0, len(result.keys())):\n",
        "        if ('WS' in result.keys()[i]) and (StnID.upper() in result.keys()[i]):\n",
        "            WS_varid = result.keys()[i]\n",
        "        if 'WD' in result.keys()[i] and (StnID.upper() in result.keys()[i]):\n",
        "            WD_varid = result.keys()[i]\n",
        "        if (('SI' in result.keys()[i]) and (not 'SI2' in result.keys()[i]) and\\\n",
        "            (StnID.upper() in result.keys()[i])):\n",
        "            SI_varid = result.keys()[i]\n",
        "        if 'TU' in result.keys()[i] and (StnID.upper() in result.keys()[i]):\n",
        "            TU_varid = result.keys()[i]\n",
        "        if 'PC' in result.keys()[i] and (StnID.upper() in result.keys()[i]):\n",
        "            PC_varid = result.keys()[i]\n",
        "        if (('OB' in result.keys()[i]) and (StnID.upper() in result.keys()[i])):\n",
        "            OB_varid = result.keys()[i]\n",
        "    \n",
        "    DT_strname_in_table = result.iloc[1].index[0]\n",
        "    #print (DT_strname_in_table)\n",
        "    DateTime = pd.to_datetime((result[DT_strname_in_table]), format = '%m/%d/%Y %H:%M').rename('TIMESTAMP')\n",
        "    records = pd.DataFrame(range(1, (DateTime.size)+1), columns= ['RECORD'])\n",
        "    #records = pd.Series([range(1, (DateTime.size+1))]).rename('RECORD').reset_index(drop=True)\n",
        "    #hourly_data1 = pd.concat([result, DateTime], axis=1).reset_index(drop=True)\n",
        "    #hour_data = pd.concat([hourly_data1, records], axis=1)\n",
        "    \n",
        "    #print (result.keys())\n",
        "\n",
        "    years = DateTime.dt.year.rename('Year')\n",
        "    months = DateTime.dt.month.rename('Month')\n",
        "    days = DateTime.dt.day.rename('Day')\n",
        "    hours = DateTime.dt.hour.rename('Hour')\n",
        "    minutes = DateTime.dt.minute.rename('Minute')\n",
        "    seconds = DateTime.dt.second.rename('Second')\n",
        "\n",
        "    ws_ms_avg = result[WS_varid]\n",
        "    winddir = result[WD_varid]\n",
        "    slrkw_avg = result[SI_varid]\n",
        "    airtc_avg = result[OB_varid]\n",
        "    rh = result[TU_varid]\n",
        "    rainmmtot = result[PC_varid]\n",
        "\n",
        "    #print (slrkw_avg * 1.0)\n",
        "    xx = slrkw_avg.apply(pd.to_numeric)\n",
        "    \n",
        "    #print (\"All rows numeric?\")\n",
        "    #print (result.applymap(np.isreal).all(axis = 0))\n",
        "    #print (type(rh))\n",
        "    \n",
        "    print (\"Forcing to nan if not numeric...\")\n",
        "    rh = (rh.apply(pd.to_numeric, errors='coerce')).rename('RH')\n",
        "    ws_ms_avg = ((ws_ms_avg.apply(pd.to_numeric, errors='coerce')) * 0.44704).rename('WS_ms_Avg')\n",
        "    winddir = (winddir.apply(pd.to_numeric, errors='coerce')).rename('WindDir')\n",
        "    slrkw_avg = (((slrkw_avg.apply(pd.to_numeric, errors='coerce'))) * (41868.0 / (1000.0 * 3600.0))).rename('SlrkW_Avg')\n",
        "    airtc_avg = (((airtc_avg.apply(pd.to_numeric, errors='coerce'))-32.0) * (5/9.0)).rename('AirTC_Avg')\n",
        "    rainmmtot = (rainmmtot.apply(pd.to_numeric, errors='coerce') * 25.4).rename('Rain_mm_Tot')\n",
        "    \n",
        "    list_of_series = [DateTime, years, months, days, hours, minutes, seconds,\n",
        "                     ws_ms_avg, winddir, slrkw_avg, airtc_avg, rh, rainmmtot]\n",
        "    hourly_data = None\n",
        "    for ser in list_of_series:\n",
        "        if hourly_data is None:\n",
        "            hourly_data = pd.DataFrame(ser)\n",
        "        else:\n",
        "            hourly_data = pd.concat([hourly_data, ser], axis=1)\n",
        "    hourly_data = hourly_data.reset_index(drop=True)\n",
        "    hourly_data = pd.concat([hourly_data, records], axis=1)\n",
        "    #print (hourly_data)\n",
        "\n",
        "    # Create a complete dataframe for all the variables\n",
        "    w_df = pd.DataFrame().reindex_like(hourly_data).iloc[0:len(loc_DTs)]\n",
        "    w_df['TIMESTAMP'] = loc_DTs\n",
        "\n",
        "    w_df1 = pd.concat([hourly_data, w_df]).sort_values(by=['TIMESTAMP']).reset_index(drop=True)\n",
        "    indsNaNs =  (w_df1[w_df1['RECORD'].isnull()].index) # only those datetimes are interpolated for Satellite datetimes\n",
        "    #indsNaNs =  (w_df1[w_df1.isnull().any(axis=1)].index) # all NaNs are interpolated \n",
        "    #print (indsNaNs)\n",
        "\n",
        "    w_df1 = w_df1.replace(-9999.000000, np.nan)\n",
        "    w_df_interp = w_df1.interpolate('linear')\n",
        "\n",
        "    w_df_4_Sat_DT_agrimet = w_df_interp.iloc[indsNaNs]\n",
        "    w_df_4_Sat_DT = w_df_4_Sat_DT_agrimet\n",
        "    #st_date_for_daily = loc_DTs[0] - timedelta(days=60)\n",
        "    #en_date_for_daily = loc_DTs[len(loc_DTs)-1]\n",
        "\n",
        "w_df_4_Sat_DT"
      ],
      "execution_count": 70,
      "outputs": [
        {
          "output_type": "stream",
          "text": [
            "Forcing to nan if not numeric...\n"
          ],
          "name": "stdout"
        },
        {
          "output_type": "execute_result",
          "data": {
            "text/html": [
              "<div>\n",
              "<style scoped>\n",
              "    .dataframe tbody tr th:only-of-type {\n",
              "        vertical-align: middle;\n",
              "    }\n",
              "\n",
              "    .dataframe tbody tr th {\n",
              "        vertical-align: top;\n",
              "    }\n",
              "\n",
              "    .dataframe thead th {\n",
              "        text-align: right;\n",
              "    }\n",
              "</style>\n",
              "<table border=\"1\" class=\"dataframe\">\n",
              "  <thead>\n",
              "    <tr style=\"text-align: right;\">\n",
              "      <th></th>\n",
              "      <th>TIMESTAMP</th>\n",
              "      <th>Year</th>\n",
              "      <th>Month</th>\n",
              "      <th>Day</th>\n",
              "      <th>Hour</th>\n",
              "      <th>Minute</th>\n",
              "      <th>Second</th>\n",
              "      <th>WS_ms_Avg</th>\n",
              "      <th>WindDir</th>\n",
              "      <th>SlrkW_Avg</th>\n",
              "      <th>AirTC_Avg</th>\n",
              "      <th>RH</th>\n",
              "      <th>Rain_mm_Tot</th>\n",
              "      <th>RECORD</th>\n",
              "    </tr>\n",
              "  </thead>\n",
              "  <tbody>\n",
              "    <tr>\n",
              "      <th>47</th>\n",
              "      <td>2016-04-08 11:43:18</td>\n",
              "      <td>2016.0</td>\n",
              "      <td>4.0</td>\n",
              "      <td>8.0</td>\n",
              "      <td>11.0</td>\n",
              "      <td>37.5</td>\n",
              "      <td>0.0</td>\n",
              "      <td>1.401470</td>\n",
              "      <td>117.00</td>\n",
              "      <td>0.702917</td>\n",
              "      <td>23.136111</td>\n",
              "      <td>34.535</td>\n",
              "      <td>472.694</td>\n",
              "      <td>47.5</td>\n",
              "    </tr>\n",
              "    <tr>\n",
              "      <th>143</th>\n",
              "      <td>2016-04-16 11:45:58</td>\n",
              "      <td>2016.0</td>\n",
              "      <td>4.0</td>\n",
              "      <td>16.0</td>\n",
              "      <td>11.5</td>\n",
              "      <td>22.5</td>\n",
              "      <td>0.0</td>\n",
              "      <td>1.718869</td>\n",
              "      <td>122.90</td>\n",
              "      <td>0.738563</td>\n",
              "      <td>15.330556</td>\n",
              "      <td>50.390</td>\n",
              "      <td>476.504</td>\n",
              "      <td>142.5</td>\n",
              "    </tr>\n",
              "    <tr>\n",
              "      <th>238</th>\n",
              "      <td>2016-05-02 11:46:04</td>\n",
              "      <td>2016.0</td>\n",
              "      <td>5.0</td>\n",
              "      <td>2.0</td>\n",
              "      <td>11.5</td>\n",
              "      <td>22.5</td>\n",
              "      <td>0.0</td>\n",
              "      <td>1.832864</td>\n",
              "      <td>165.10</td>\n",
              "      <td>0.795608</td>\n",
              "      <td>23.111111</td>\n",
              "      <td>35.540</td>\n",
              "      <td>476.504</td>\n",
              "      <td>236.5</td>\n",
              "    </tr>\n",
              "    <tr>\n",
              "      <th>332</th>\n",
              "      <td>2016-05-10 11:43:14</td>\n",
              "      <td>2016.0</td>\n",
              "      <td>5.0</td>\n",
              "      <td>10.0</td>\n",
              "      <td>11.0</td>\n",
              "      <td>37.5</td>\n",
              "      <td>0.0</td>\n",
              "      <td>2.344725</td>\n",
              "      <td>158.50</td>\n",
              "      <td>0.881089</td>\n",
              "      <td>19.697222</td>\n",
              "      <td>31.565</td>\n",
              "      <td>0.000</td>\n",
              "      <td>329.5</td>\n",
              "    </tr>\n",
              "    <tr>\n",
              "      <th>428</th>\n",
              "      <td>2016-05-18 11:46:05</td>\n",
              "      <td>2016.0</td>\n",
              "      <td>5.0</td>\n",
              "      <td>18.0</td>\n",
              "      <td>11.5</td>\n",
              "      <td>22.5</td>\n",
              "      <td>0.0</td>\n",
              "      <td>1.955800</td>\n",
              "      <td>136.30</td>\n",
              "      <td>0.887543</td>\n",
              "      <td>25.408333</td>\n",
              "      <td>38.770</td>\n",
              "      <td>20.066</td>\n",
              "      <td>424.5</td>\n",
              "    </tr>\n",
              "    <tr>\n",
              "      <th>523</th>\n",
              "      <td>2016-06-19 11:46:14</td>\n",
              "      <td>2016.0</td>\n",
              "      <td>6.0</td>\n",
              "      <td>19.0</td>\n",
              "      <td>11.5</td>\n",
              "      <td>22.5</td>\n",
              "      <td>0.0</td>\n",
              "      <td>2.013915</td>\n",
              "      <td>96.22</td>\n",
              "      <td>0.939297</td>\n",
              "      <td>19.136111</td>\n",
              "      <td>29.380</td>\n",
              "      <td>21.336</td>\n",
              "      <td>518.5</td>\n",
              "    </tr>\n",
              "  </tbody>\n",
              "</table>\n",
              "</div>"
            ],
            "text/plain": [
              "              TIMESTAMP    Year  Month  ...      RH  Rain_mm_Tot  RECORD\n",
              "47  2016-04-08 11:43:18  2016.0    4.0  ...  34.535      472.694    47.5\n",
              "143 2016-04-16 11:45:58  2016.0    4.0  ...  50.390      476.504   142.5\n",
              "238 2016-05-02 11:46:04  2016.0    5.0  ...  35.540      476.504   236.5\n",
              "332 2016-05-10 11:43:14  2016.0    5.0  ...  31.565        0.000   329.5\n",
              "428 2016-05-18 11:46:05  2016.0    5.0  ...  38.770       20.066   424.5\n",
              "523 2016-06-19 11:46:14  2016.0    6.0  ...  29.380       21.336   518.5\n",
              "\n",
              "[6 rows x 14 columns]"
            ]
          },
          "metadata": {
            "tags": []
          },
          "execution_count": 70
        }
      ]
    },
    {
      "cell_type": "code",
      "metadata": {
        "id": "CLLKnhyG4Hwy",
        "colab_type": "code",
        "colab": {
          "base_uri": "https://localhost:8080/",
          "height": 34
        },
        "outputId": "a02ac282-d259-4fb5-af51-b9a273cecff8"
      },
      "source": [
        "def plot_comp(w_df_4_Sat_DT_agrimet, w_df_4_Sat_DT_NLDAS, var):\n",
        "  import matplotlib.pyplot as plt\n",
        "  fig, ax = plt.subplots()\n",
        "  w_df_4_Sat_DT_agrimet.plot(x = \"TIMESTAMP\", y = var, ax = ax, style = \"-*\", label = 'Agrimet')\n",
        "  w_df_4_Sat_DT_NLDAS.plot(x = \"TIMESTAMP\", y = var, ax= ax, style = \"+-\", label = 'NLDAS')\n",
        "  plt.ylabel (var)\n",
        "  return (0)\n",
        "print (\"Done!\")"
      ],
      "execution_count": 71,
      "outputs": [
        {
          "output_type": "stream",
          "text": [
            "Done!\n"
          ],
          "name": "stdout"
        }
      ]
    },
    {
      "cell_type": "code",
      "metadata": {
        "id": "N3byRHSDDqu6",
        "colab_type": "code",
        "colab": {
          "base_uri": "https://localhost:8080/",
          "height": 302
        },
        "outputId": "6e1a528d-2a15-47cf-b31c-524ba1291154"
      },
      "source": [
        "plot_comp(w_df_4_Sat_DT_agrimet, w_df_4_Sat_DT_NLDAS, var = \"RH\")"
      ],
      "execution_count": 76,
      "outputs": [
        {
          "output_type": "execute_result",
          "data": {
            "text/plain": [
              "0"
            ]
          },
          "metadata": {
            "tags": []
          },
          "execution_count": 76
        },
        {
          "output_type": "display_data",
          "data": {
            "image/png": "[encoded data removed]",
            "text/plain": [
              "<Figure size 432x288 with 1 Axes>"
            ]
          },
          "metadata": {
            "tags": [],
            "needs_background": "light"
          }
        }
      ]
    },
    {
      "cell_type": "code",
      "metadata": {
        "id": "TCujXDsjDvLl",
        "colab_type": "code",
        "colab": {
          "base_uri": "https://localhost:8080/",
          "height": 302
        },
        "outputId": "c3b70849-1466-42af-9731-17229c1de162"
      },
      "source": [
        "plot_comp(w_df_4_Sat_DT_agrimet, w_df_4_Sat_DT_NLDAS, var = \"SlrkW_Avg\")"
      ],
      "execution_count": 73,
      "outputs": [
        {
          "output_type": "execute_result",
          "data": {
            "text/plain": [
              "0"
            ]
          },
          "metadata": {
            "tags": []
          },
          "execution_count": 73
        },
        {
          "output_type": "display_data",
          "data": {
            "image/png": "[encoded data removed]",
            "text/plain": [
              "<Figure size 432x288 with 1 Axes>"
            ]
          },
          "metadata": {
            "tags": [],
            "needs_background": "light"
          }
        }
      ]
    },
    {
      "cell_type": "code",
      "metadata": {
        "id": "e5A2-b69EAml",
        "colab_type": "code",
        "colab": {
          "base_uri": "https://localhost:8080/",
          "height": 302
        },
        "outputId": "7e969e2b-11e5-4657-8fd5-bf669195204e"
      },
      "source": [
        "plot_comp(w_df_4_Sat_DT_agrimet, w_df_4_Sat_DT_NLDAS, var = \"AirTC_Avg\")"
      ],
      "execution_count": 74,
      "outputs": [
        {
          "output_type": "execute_result",
          "data": {
            "text/plain": [
              "0"
            ]
          },
          "metadata": {
            "tags": []
          },
          "execution_count": 74
        },
        {
          "output_type": "display_data",
          "data": {
            "image/png": "[encoded data removed]",
            "text/plain": [
              "<Figure size 432x288 with 1 Axes>"
            ]
          },
          "metadata": {
            "tags": [],
            "needs_background": "light"
          }
        }
      ]
    },
    {
      "cell_type": "code",
      "metadata": {
        "id": "0byuMDlPELz0",
        "colab_type": "code",
        "colab": {
          "base_uri": "https://localhost:8080/",
          "height": 305
        },
        "outputId": "68ad1c44-e948-4903-b4e9-305128fe4b94"
      },
      "source": [
        "plot_comp(w_df_4_Sat_DT_agrimet, w_df_4_Sat_DT_NLDAS, var = \"WS_ms_Avg\")"
      ],
      "execution_count": 75,
      "outputs": [
        {
          "output_type": "execute_result",
          "data": {
            "text/plain": [
              "0"
            ]
          },
          "metadata": {
            "tags": []
          },
          "execution_count": 75
        },
        {
          "output_type": "display_data",
          "data": {
            "image/png": "[encoded data removed]",
            "text/plain": [
              "<Figure size 432x288 with 1 Axes>"
            ]
          },
          "metadata": {
            "tags": [],
            "needs_background": "light"
          }
        }
      ]
    }
  ]
}